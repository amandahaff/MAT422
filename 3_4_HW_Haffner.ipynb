{
  "nbformat": 4,
  "nbformat_minor": 0,
  "metadata": {
    "colab": {
      "provenance": [],
      "authorship_tag": "ABX9TyOEqLzCYNTUBmnSf4IM3YcA",
      "include_colab_link": true
    },
    "kernelspec": {
      "name": "python3",
      "display_name": "Python 3"
    },
    "language_info": {
      "name": "python"
    }
  },
  "cells": [
    {
      "cell_type": "markdown",
      "metadata": {
        "id": "view-in-github",
        "colab_type": "text"
      },
      "source": [
        "<a href=\"https://colab.research.google.com/github/amandahaff/MAT422/blob/main/3_4_HW_Haffner.ipynb\" target=\"_parent\"><img src=\"https://colab.research.google.com/assets/colab-badge.svg\" alt=\"Open In Colab\"/></a>"
      ]
    },
    {
      "cell_type": "markdown",
      "source": [
        "**3.4 Logistic Regression**"
      ],
      "metadata": {
        "id": "8LAT-zNz0KGs"
      }
    },
    {
      "cell_type": "markdown",
      "source": [
        "Logistic regression is a model that in its basic form uses a logistic function\n",
        "to model a binary dependent variable. It can be extended to several classes\n",
        "of events such as classfication of images"
      ],
      "metadata": {
        "id": "UdkbpcG_0vAq"
      }
    },
    {
      "cell_type": "code",
      "execution_count": 1,
      "metadata": {
        "colab": {
          "base_uri": "https://localhost:8080/",
          "height": 1000
        },
        "id": "YOIpuein0HFv",
        "outputId": "df79585f-7fe2-45c7-9846-c6e9666e4714"
      },
      "outputs": [
        {
          "output_type": "stream",
          "name": "stdout",
          "text": [
            "[[0]\n",
            " [1]\n",
            " [2]\n",
            " [3]\n",
            " [4]\n",
            " [5]\n",
            " [6]\n",
            " [7]\n",
            " [8]\n",
            " [9]]\n",
            "[0 0 0 0 1 1 1 1 1 1]\n",
            "[0 1]\n",
            "[-1.04608067]\n",
            "[[0.51491375]]\n",
            "[[0.74002157 0.25997843]\n",
            " [0.62975524 0.37024476]\n",
            " [0.5040632  0.4959368 ]\n",
            " [0.37785549 0.62214451]\n",
            " [0.26628093 0.73371907]\n",
            " [0.17821501 0.82178499]\n",
            " [0.11472079 0.88527921]\n",
            " [0.07186982 0.92813018]\n",
            " [0.04422513 0.95577487]\n",
            " [0.02690569 0.97309431]]\n",
            "[0 0 0 1 1 1 1 1 1 1]\n",
            "0.9\n",
            "[[3 1]\n",
            " [0 6]]\n"
          ]
        },
        {
          "output_type": "display_data",
          "data": {
            "text/plain": [
              "<Figure size 800x800 with 1 Axes>"
            ],
            "image/png": "[encoded data removed]"
          },
          "metadata": {}
        },
        {
          "output_type": "stream",
          "name": "stdout",
          "text": [
            "              precision    recall  f1-score   support\n",
            "\n",
            "           0       1.00      0.75      0.86         4\n",
            "           1       0.86      1.00      0.92         6\n",
            "\n",
            "    accuracy                           0.90        10\n",
            "   macro avg       0.93      0.88      0.89        10\n",
            "weighted avg       0.91      0.90      0.90        10\n",
            "\n"
          ]
        }
      ],
      "source": [
        "import matplotlib.pyplot as plt\n",
        "import numpy as np\n",
        "from sklearn.linear_model import LogisticRegression\n",
        "from sklearn.metrics import classification_report, confusion_matrix\n",
        "\n",
        "x = np.arange(10).reshape(-1, 1)\n",
        "y = np.array([0, 0, 0, 0, 1, 1, 1, 1, 1, 1])\n",
        "print(x)\n",
        "print(y)\n",
        "\n",
        "model = LogisticRegression(solver='liblinear', random_state=0)\n",
        "\n",
        "model.fit(x, y)\n",
        "\n",
        "model = LogisticRegression(solver='liblinear', random_state=0).fit(x, y)\n",
        "\n",
        "model.classes_\n",
        "print(model.classes_)\n",
        "\n",
        "model.intercept_\n",
        "print(model.intercept_)\n",
        "\n",
        "model.coef_\n",
        "print(model.coef_)\n",
        "\n",
        "model.predict_proba(x)\n",
        "print(model.predict_proba(x))\n",
        "\n",
        "model.predict(x)\n",
        "print(model.predict(x))\n",
        "\n",
        "model.score(x, y)\n",
        "print(model.score(x, y))\n",
        "\n",
        "confusion_matrix(y, model.predict(x))\n",
        "print(confusion_matrix(y, model.predict(x)))\n",
        "\n",
        "cm = confusion_matrix(y, model.predict(x))\n",
        "\n",
        "fig, ax = plt.subplots(figsize=(8, 8))\n",
        "ax.imshow(cm)\n",
        "ax.grid(False)\n",
        "ax.xaxis.set(ticks=(0, 1), ticklabels=('Predicted 0s', 'Predicted 1s'))\n",
        "ax.yaxis.set(ticks=(0, 1), ticklabels=('Actual 0s', 'Actual 1s'))\n",
        "ax.set_ylim(1.5, -0.5)\n",
        "for i in range(2):\n",
        "    for j in range(2):\n",
        "        ax.text(j, i, cm[i, j], ha='center', va='center', color='red')\n",
        "plt.show()\n",
        "\n",
        "print(classification_report(y, model.predict(x)))"
      ]
    },
    {
      "cell_type": "code",
      "source": [
        "# Step 1: Import packages, functions, and classes\n",
        "import numpy as np\n",
        "from sklearn.linear_model import LogisticRegression\n",
        "from sklearn.metrics import classification_report, confusion_matrix\n",
        "\n",
        "# Step 2: Get data\n",
        "x = np.arange(10).reshape(-1, 1)\n",
        "y = np.array([0, 1, 0, 0, 1, 1, 1, 1, 1, 1])\n",
        "\n",
        "# Step 3: Create a model and train it\n",
        "model = LogisticRegression(solver='liblinear', C=10.0, random_state=0)\n",
        "model.fit(x, y)\n",
        "\n",
        "# Step 4: Evaluate the model\n",
        "p_pred = model.predict_proba(x)\n",
        "y_pred = model.predict(x)\n",
        "score_ = model.score(x, y)\n",
        "conf_m = confusion_matrix(y, y_pred)\n",
        "report = classification_report(y, y_pred)\n",
        "\n",
        "\n",
        "print('x:', x, sep='\\n')\n",
        "\n",
        "print('y:', y, sep='\\n', end='\\n\\n')\n",
        "\n",
        "print('intercept:', model.intercept_)\n",
        "\n",
        "print('coef:', model.coef_, end='\\n\\n')\n",
        "\n",
        "print('p_pred:', p_pred, sep='\\n', end='\\n\\n')\n",
        "\n",
        "print('y_pred:', y_pred, end='\\n\\n')\n",
        "\n",
        "print('score_:', score_, end='\\n\\n')\n",
        "\n",
        "print('conf_m:', conf_m, sep='\\n', end='\\n\\n')\n",
        "\n",
        "print('report:', report, sep='\\n')"
      ],
      "metadata": {
        "colab": {
          "base_uri": "https://localhost:8080/"
        },
        "id": "9jM-E3a119_V",
        "outputId": "3098a81c-141d-478f-ef43-7ae01c488902"
      },
      "execution_count": 2,
      "outputs": [
        {
          "output_type": "stream",
          "name": "stdout",
          "text": [
            "x:\n",
            "[[0]\n",
            " [1]\n",
            " [2]\n",
            " [3]\n",
            " [4]\n",
            " [5]\n",
            " [6]\n",
            " [7]\n",
            " [8]\n",
            " [9]]\n",
            "y:\n",
            "[0 1 0 0 1 1 1 1 1 1]\n",
            "\n",
            "intercept: [-1.51632619]\n",
            "coef: [[0.703457]]\n",
            "\n",
            "p_pred:\n",
            "[[0.81999686 0.18000314]\n",
            " [0.69272057 0.30727943]\n",
            " [0.52732579 0.47267421]\n",
            " [0.35570732 0.64429268]\n",
            " [0.21458576 0.78541424]\n",
            " [0.11910229 0.88089771]\n",
            " [0.06271329 0.93728671]\n",
            " [0.03205032 0.96794968]\n",
            " [0.0161218  0.9838782 ]\n",
            " [0.00804372 0.99195628]]\n",
            "\n",
            "y_pred: [0 0 0 1 1 1 1 1 1 1]\n",
            "\n",
            "score_: 0.8\n",
            "\n",
            "conf_m:\n",
            "[[2 1]\n",
            " [1 6]]\n",
            "\n",
            "report:\n",
            "              precision    recall  f1-score   support\n",
            "\n",
            "           0       0.67      0.67      0.67         3\n",
            "           1       0.86      0.86      0.86         7\n",
            "\n",
            "    accuracy                           0.80        10\n",
            "   macro avg       0.76      0.76      0.76        10\n",
            "weighted avg       0.80      0.80      0.80        10\n",
            "\n"
          ]
        }
      ]
    },
    {
      "cell_type": "code",
      "source": [
        "import numpy as np\n",
        "import statsmodels.api as sm\n",
        "import pandas.testing as tm\n",
        "\n",
        "x = np.arange(10).reshape(-1, 1)\n",
        "y = np.array([0, 1, 0, 0, 1, 1, 1, 1, 1, 1])\n",
        "x = sm.add_constant(x)\n",
        "\n",
        "\n",
        "x\n",
        "\n",
        "y\n",
        "\n",
        "model = sm.Logit(y, x)\n",
        "\n",
        "result = model.fit(method='newton')\n",
        "\n",
        "result.params\n",
        "\n",
        "result.predict(x)\n",
        "\n",
        "(result.predict(x) >= 0.5).astype(int)\n",
        "\n",
        "result.pred_table()\n",
        "\n",
        "result.summary()\n",
        "\n",
        "result.summary2()"
      ],
      "metadata": {
        "colab": {
          "base_uri": "https://localhost:8080/",
          "height": 327
        },
        "id": "oXqIeCuV2Gk8",
        "outputId": "6d193375-d044-4be2-ef1c-62cbdf2b504b"
      },
      "execution_count": 4,
      "outputs": [
        {
          "output_type": "stream",
          "name": "stdout",
          "text": [
            "Optimization terminated successfully.\n",
            "         Current function value: 0.350471\n",
            "         Iterations 7\n"
          ]
        },
        {
          "output_type": "execute_result",
          "data": {
            "text/plain": [
              "<class 'statsmodels.iolib.summary2.Summary'>\n",
              "\"\"\"\n",
              "                        Results: Logit\n",
              "===============================================================\n",
              "Model:              Logit            Method:           MLE     \n",
              "Dependent Variable: y                Pseudo R-squared: 0.426   \n",
              "Date:               2023-10-22 19:25 AIC:              11.0094 \n",
              "No. Observations:   10               BIC:              11.6146 \n",
              "Df Model:           1                Log-Likelihood:   -3.5047 \n",
              "Df Residuals:       8                LL-Null:          -6.1086 \n",
              "Converged:          1.0000           LLR p-value:      0.022485\n",
              "No. Iterations:     7.0000           Scale:            1.0000  \n",
              "-----------------------------------------------------------------\n",
              "          Coef.    Std.Err.      z      P>|z|     [0.025   0.975]\n",
              "-----------------------------------------------------------------\n",
              "const    -1.9728     1.7366   -1.1360   0.2560   -5.3765   1.4309\n",
              "x1        0.8224     0.5281    1.5572   0.1194   -0.2127   1.8575\n",
              "===============================================================\n",
              "\n",
              "\"\"\""
            ],
            "text/html": [
              "<table class=\"simpletable\">\n",
              "<tr>\n",
              "        <td>Model:</td>              <td>Logit</td>           <td>Method:</td>         <td>MLE</td>  \n",
              "</tr>\n",
              "<tr>\n",
              "  <td>Dependent Variable:</td>         <td>y</td>        <td>Pseudo R-squared:</td>   <td>0.426</td> \n",
              "</tr>\n",
              "<tr>\n",
              "         <td>Date:</td>        <td>2023-10-22 19:25</td>       <td>AIC:</td>         <td>11.0094</td>\n",
              "</tr>\n",
              "<tr>\n",
              "   <td>No. Observations:</td>         <td>10</td>              <td>BIC:</td>         <td>11.6146</td>\n",
              "</tr>\n",
              "<tr>\n",
              "       <td>Df Model:</td>              <td>1</td>         <td>Log-Likelihood:</td>   <td>-3.5047</td>\n",
              "</tr>\n",
              "<tr>\n",
              "     <td>Df Residuals:</td>            <td>8</td>            <td>LL-Null:</td>       <td>-6.1086</td>\n",
              "</tr>\n",
              "<tr>\n",
              "      <td>Converged:</td>           <td>1.0000</td>        <td>LLR p-value:</td>    <td>0.022485</td>\n",
              "</tr>\n",
              "<tr>\n",
              "    <td>No. Iterations:</td>        <td>7.0000</td>           <td>Scale:</td>        <td>1.0000</td> \n",
              "</tr>\n",
              "</table>\n",
              "<table class=\"simpletable\">\n",
              "<tr>\n",
              "    <td></td>     <th>Coef.</th>  <th>Std.Err.</th>    <th>z</th>     <th>P>|z|</th> <th>[0.025</th>  <th>0.975]</th>\n",
              "</tr>\n",
              "<tr>\n",
              "  <th>const</th> <td>-1.9728</td>  <td>1.7366</td>  <td>-1.1360</td> <td>0.2560</td> <td>-5.3765</td> <td>1.4309</td>\n",
              "</tr>\n",
              "<tr>\n",
              "  <th>x1</th>    <td>0.8224</td>   <td>0.5281</td>  <td>1.5572</td>  <td>0.1194</td> <td>-0.2127</td> <td>1.8575</td>\n",
              "</tr>\n",
              "</table><br/>\n"
            ],
            "text/latex": "\\begin{table}\n\\caption{Results: Logit}\n\\label{}\n\\begin{center}\n\\begin{tabular}{llll}\n\\hline\nModel:              & Logit            & Method:           & MLE       \\\\\nDependent Variable: & y                & Pseudo R-squared: & 0.426     \\\\\nDate:               & 2023-10-22 19:25 & AIC:              & 11.0094   \\\\\nNo. Observations:   & 10               & BIC:              & 11.6146   \\\\\nDf Model:           & 1                & Log-Likelihood:   & -3.5047   \\\\\nDf Residuals:       & 8                & LL-Null:          & -6.1086   \\\\\nConverged:          & 1.0000           & LLR p-value:      & 0.022485  \\\\\nNo. Iterations:     & 7.0000           & Scale:            & 1.0000    \\\\\n\\hline\n\\end{tabular}\n\\end{center}\n\n\\begin{center}\n\\begin{tabular}{lrrrrrr}\n\\hline\n      &   Coef. & Std.Err. &       z & P$> |$z$|$ &  [0.025 & 0.975]  \\\\\n\\hline\nconst & -1.9728 &   1.7366 & -1.1360 &      0.2560 & -5.3765 & 1.4309  \\\\\nx1    &  0.8224 &   0.5281 &  1.5572 &      0.1194 & -0.2127 & 1.8575  \\\\\n\\hline\n\\end{tabular}\n\\end{center}\n\\end{table}\n\\bigskip\n"
          },
          "metadata": {},
          "execution_count": 4
        }
      ]
    }
  ]
}